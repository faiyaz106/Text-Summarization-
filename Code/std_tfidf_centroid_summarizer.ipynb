{
 "cells": [
  {
   "cell_type": "markdown",
   "id": "bc9a2a71",
   "metadata": {},
   "source": [
    "#### This Notebook is for summarizing the Single Document 'Text Summarization' based on TFIDF Sentence scoring and Centroid Based Scoring System"
   ]
  },
  {
   "cell_type": "code",
   "execution_count": 17,
   "id": "43a16b5f",
   "metadata": {},
   "outputs": [],
   "source": [
    "import pandas as pd\n",
    "import numpy as np\n",
    "from nltk.corpus import stopwords\n",
    "from nltk.tokenize import word_tokenize\n",
    "from nltk.tokenize import sent_tokenize\n",
    "import re\n",
    "import math\n",
    "import os"
   ]
  },
  {
   "cell_type": "code",
   "execution_count": 18,
   "id": "8fc327f7",
   "metadata": {},
   "outputs": [],
   "source": [
    "stopwords_eng = stopwords.words('english')"
   ]
  },
  {
   "cell_type": "code",
   "execution_count": 19,
   "id": "5fef1f5a",
   "metadata": {},
   "outputs": [],
   "source": [
    "df=pd.read_csv('train.csv')"
   ]
  },
  {
   "cell_type": "code",
   "execution_count": 20,
   "id": "2fc173f4",
   "metadata": {},
   "outputs": [],
   "source": [
    "def text_preprocessing(text):\n",
    "    \"\"\"This function will do following preprocessing\n",
    "    1. Tokenizing the text into sentence.\n",
    "    2. Word tokenization for each sentence tokens.\n",
    "    3. Removing the stop words\n",
    "    4. Removing the regular expression\n",
    "    Output format: cleaned_text={'sent1':['word1','word2'....],'sent2':['w1,'w2','w3',..]}\n",
    "     \"\"\"\n",
    "    sent_token=sent_tokenize(text)\n",
    "    n=len(sent_token)\n",
    "    cleaned_text={}\n",
    "    for i in range(0,n):\n",
    "        temp=[]\n",
    "        w_t=word_tokenize(sent_token[i])\n",
    "        w_t_s=[word for word in w_t if ((not word.lower() in stopwords_eng )and (len(word)>3))]\n",
    "        for word in w_t_s:\n",
    "            result = re.sub(r'[^a-zA-Z]', '',word)\n",
    "            if result!='':\n",
    "                temp.append(result)\n",
    "            else:\n",
    "                continue\n",
    "        if len(temp)>2:\n",
    "            cleaned_text[sent_token[i]]=temp\n",
    "    return cleaned_text\n",
    "    "
   ]
  },
  {
   "cell_type": "code",
   "execution_count": 21,
   "id": "92888190",
   "metadata": {},
   "outputs": [],
   "source": [
    "def frequency_count(cleaned_text):\n",
    "    \"\"\"This function return the frequency of each word in the given sentence\n",
    "    Input_argument:\n",
    "                cleaned_text={'sent1':['word1','word2'....],'sent2':['w1,'w2','w3',..]}\n",
    "    Output:\n",
    "          freq_dict=[()]\n",
    "    \n",
    "    \"\"\"\n",
    "    freq_dict={}\n",
    "    for i in cleaned_text.keys():\n",
    "        freq_dict[i]={}\n",
    "        for j in cleaned_text[i]:\n",
    "            if j not in freq_dict[i].keys():\n",
    "                freq_dict[i][j]=1\n",
    "            else:\n",
    "                freq_dict[i][j]=freq_dict[i][j]+1\n",
    "                \n",
    "    return freq_dict"
   ]
  },
  {
   "cell_type": "code",
   "execution_count": 22,
   "id": "8f2463c9",
   "metadata": {},
   "outputs": [],
   "source": [
    "def tf_score(cleaned_text,freq_dict):\n",
    "    tf_dict={}\n",
    "    for i in freq_dict.keys():\n",
    "        tf_dict[i]={}\n",
    "        for j in freq_dict[i].keys():\n",
    "            tf_dict[i][j]=round(freq_dict[i][j]/len(cleaned_text[i]),3)\n",
    "    return tf_dict"
   ]
  },
  {
   "cell_type": "code",
   "execution_count": 23,
   "id": "f9c4cbdc",
   "metadata": {},
   "outputs": [],
   "source": [
    "def doc_word_freq(cleaned_text):\n",
    "    \"\"\"This return how many times particular word appeared in the document\"\"\"\n",
    "    doc_freq={}\n",
    "    for i in cleaned_text.keys():\n",
    "        doc_freq[i]={}\n",
    "        for j in cleaned_text[i]:\n",
    "            count=0\n",
    "            if j not in doc_freq[i].keys():\n",
    "                doc_freq[i][j]=0     \n",
    "            else:\n",
    "                continue\n",
    "            for k in cleaned_text.keys():\n",
    "                if j in cleaned_text[k]:\n",
    "                    count=count+1\n",
    "                else:\n",
    "                    continue\n",
    "            doc_freq[i][j]=count\n",
    "    return doc_freq\n",
    "            \n",
    "                "
   ]
  },
  {
   "cell_type": "code",
   "execution_count": 24,
   "id": "867c6c0e",
   "metadata": {},
   "outputs": [],
   "source": [
    "def idf_score(cleaned_text,freq_dict):\n",
    "    idf_dict={}\n",
    "    doc_freq=doc_word_freq(cleaned_text)\n",
    "    n_sent=len(freq_dict.keys())\n",
    "    for i in freq_dict.keys():\n",
    "        idf_dict[i]={}\n",
    "        for j in freq_dict[i].keys():\n",
    "            idf_dict[i][j]=math.log(n_sent/doc_freq[i][j])\n",
    "    return idf_dict"
   ]
  },
  {
   "cell_type": "code",
   "execution_count": 25,
   "id": "c3110838",
   "metadata": {},
   "outputs": [],
   "source": [
    "def tf_idf_score(tf_dict,idf_dict):\n",
    "    tf_idf_dict={}\n",
    "    for i in tf_dict.keys():\n",
    "        tf_idf_dict[i]={}\n",
    "        for j in tf_dict[i].keys():\n",
    "            tf_idf_dict[i][j]=tf_dict[i][j]*idf_dict[i][j]\n",
    "    return tf_idf_dict"
   ]
  },
  {
   "cell_type": "code",
   "execution_count": 26,
   "id": "89a47128",
   "metadata": {},
   "outputs": [],
   "source": [
    "def sent_score(tf_idf_dict):\n",
    "    sent_tfidf_dict={}\n",
    "    for i in tf_idf_dict.keys():\n",
    "        sum=0\n",
    "        for j in tf_idf_dict[i].keys():\n",
    "            sum=sum+tf_idf_dict[i][j]\n",
    "        sent_tfidf_dict[i]=sum/len(tf_idf_dict[i].keys())\n",
    "    return sent_tfidf_dict"
   ]
  },
  {
   "cell_type": "code",
   "execution_count": 27,
   "id": "1a572b21",
   "metadata": {},
   "outputs": [],
   "source": [
    "def sent_avg_score(sent_tfidf_dict):\n",
    "    avg_score=0\n",
    "    n=len(sent_tfidf_dict.keys())\n",
    "    sum=0\n",
    "    for i in sent_tfidf_dict.keys():\n",
    "        sum=sum+sent_tfidf_dict[i]\n",
    "    avg_score=sum/n\n",
    "    return avg_score\n",
    "    "
   ]
  },
  {
   "cell_type": "code",
   "execution_count": 28,
   "id": "c40b57a4",
   "metadata": {},
   "outputs": [],
   "source": [
    "def summarize(sent_tfidf_dict,tuning_factor):\n",
    "    summary=''\n",
    "    summary_dict={}\n",
    "    avg_score=sent_avg_score(sent_tfidf_dict)\n",
    "    for i in sent_tfidf_dict.keys():\n",
    "        if sent_tfidf_dict[i]>tuning_factor*avg_score:\n",
    "            summary=summary+i\n",
    "            \n",
    "        \n",
    "    return summary"
   ]
  },
  {
   "cell_type": "code",
   "execution_count": 29,
   "id": "7cf69f06",
   "metadata": {},
   "outputs": [],
   "source": [
    "def tfidf_summarizer(text,tuning_factor):\n",
    "    cleaned_text=text_preprocessing(text)\n",
    "    freq_dict=frequency_count(cleaned_text)\n",
    "    tf_dict=tf_score(cleaned_text,freq_dict)\n",
    "    doc_freq=doc_word_freq(cleaned_text)\n",
    "    idf_dict=idf_score(cleaned_text,freq_dict)\n",
    "    tf_idf_dict=tf_idf_score(tf_dict,idf_dict)\n",
    "    sent_sc=sent_score(tf_idf_dict)\n",
    "    summary=summarize(sent_sc,tuning_factor)\n",
    "    return summary\n",
    "    \n",
    "    "
   ]
  },
  {
   "cell_type": "code",
   "execution_count": 30,
   "id": "2a1d6022",
   "metadata": {},
   "outputs": [],
   "source": [
    "def avg_centroid_score(centroid):\n",
    "    sum=0\n",
    "    for i in centroid.keys():\n",
    "        sum=sum+centroid[i]\n",
    "    avg_score=sum/len(centroid.keys())\n",
    "    return avg_score"
   ]
  },
  {
   "cell_type": "code",
   "execution_count": 31,
   "id": "02bf81db",
   "metadata": {},
   "outputs": [],
   "source": [
    "def text_centroid(tf_idf_dict):\n",
    "    centroid={}\n",
    "    new_centroid={}\n",
    "    for i in tf_idf_dict.keys():\n",
    "        for j in tf_idf_dict[i].keys():\n",
    "            if j not in centroid.keys():\n",
    "                centroid[j]=tf_idf_dict[i][j]\n",
    "            else:\n",
    "                centroid[j]=tf_idf_dict[i][j]+centroid[j]\n",
    "    avg_score=avg_centroid_score(centroid)\n",
    "    for i in centroid.keys():\n",
    "        if centroid[i]>avg_score:\n",
    "            new_centroid[i]=centroid[i]\n",
    "        else:\n",
    "            continue\n",
    "    \n",
    "    return new_centroid"
   ]
  },
  {
   "cell_type": "code",
   "execution_count": 32,
   "id": "adf93165",
   "metadata": {},
   "outputs": [],
   "source": [
    "def sent_cos_similarity(tf_idf_dict):\n",
    "    new_centroid=text_centroid(tf_idf_dict)\n",
    "    sent_similarity={}\n",
    "    mod_centroid=0\n",
    "    sq_sum=0\n",
    "    for i in new_centroid.keys():\n",
    "        sq_sum=sq_sum+new_centroid[i]**2\n",
    "    mod_centroid=math.sqrt(sq_sum)\n",
    "    for j in tf_idf_dict.keys():\n",
    "        mod_sent=0\n",
    "        sq_sum=0\n",
    "        dot_product=0\n",
    "        for k in tf_idf_dict[j].keys():\n",
    "            sq_sum=sq_sum+tf_idf_dict[j][k]**2\n",
    "            if k in new_centroid.keys():\n",
    "                dot_product=dot_product+tf_idf_dict[j][k]*new_centroid[k]\n",
    "        mod_sent=math.sqrt(sq_sum)\n",
    "        sent_similarity[j]=round(dot_product/(mod_centroid*mod_sent),3)\n",
    "            \n",
    "    return sent_similarity"
   ]
  },
  {
   "cell_type": "code",
   "execution_count": 33,
   "id": "598192a4",
   "metadata": {},
   "outputs": [],
   "source": [
    "def avg_sent_similarity(sent_similarity):\n",
    "    n=len(sent_similarity.keys())\n",
    "    sum=0\n",
    "    for i in sent_similarity:\n",
    "        sum=sum+sent_similarity[i]\n",
    "    avg_score=sum/n\n",
    "    \n",
    "    return avg_score\n",
    "        "
   ]
  },
  {
   "cell_type": "code",
   "execution_count": 34,
   "id": "7fc2bfd4",
   "metadata": {},
   "outputs": [],
   "source": [
    "def centroid_summary_gen(sent_similarity,tuning_factor):\n",
    "    avg_score=avg_sent_similarity(sent_similarity)\n",
    "    summary=''\n",
    "    for i in sent_similarity:\n",
    "        if sent_similarity[i]>tuning_factor*avg_score:\n",
    "            summary=summary+str(i)\n",
    "        else:\n",
    "            continue\n",
    "    return summary"
   ]
  },
  {
   "cell_type": "code",
   "execution_count": 35,
   "id": "bd44f9b8",
   "metadata": {},
   "outputs": [],
   "source": [
    "def ROUGE_1(sys_summarized_text,ref_summarized_text):\n",
    "    sys_text=text_preprocessing(sys_summarized_text)\n",
    "    ref_text=text_preprocessing(ref_summarized_text)\n",
    "    sys_word=[]\n",
    "    ref_word=[]\n",
    "    match_count=0\n",
    "    for i in sys_text.keys():\n",
    "        for j in sys_text[i]:\n",
    "            sys_word.append(j)\n",
    "    for i in ref_text.keys():\n",
    "        for j in ref_text[i]:\n",
    "            ref_word.append(j)\n",
    "    n=len(ref_word)\n",
    "    for i in sys_word:\n",
    "        for j in range(len(ref_word)):\n",
    "            if i==ref_word[j]:\n",
    "                match_count=match_count+1\n",
    "                ref_word.pop(j)\n",
    "                break\n",
    "            else:\n",
    "                continue\n",
    "    if n>0:\n",
    "        ROUGE=match_count/n\n",
    "    else:\n",
    "        ROUGE=0\n",
    "    return ROUGE"
   ]
  },
  {
   "cell_type": "code",
   "execution_count": 36,
   "id": "b97c2af6",
   "metadata": {},
   "outputs": [],
   "source": [
    "def centroid_summarizer(text,tuning_factor):\n",
    "    cleaned_text=text_preprocessing(text)\n",
    "    freq_dict=frequency_count(cleaned_text)\n",
    "    tf_dict=tf_score(cleaned_text,freq_dict)\n",
    "    doc_freq=doc_word_freq(cleaned_text)\n",
    "    idf_dict=idf_score(cleaned_text,freq_dict)\n",
    "    tf_idf_dict=tf_idf_score(tf_dict,idf_dict)\n",
    "    centroid=text_centroid(tf_idf_dict)\n",
    "    sent_similarity=sent_cos_similarity(tf_idf_dict)\n",
    "    summary=centroid_summary_gen(sent_similarity,tuning_factor)\n",
    "    return summary"
   ]
  },
  {
   "cell_type": "code",
   "execution_count": 40,
   "id": "4031d837",
   "metadata": {},
   "outputs": [
    {
     "name": "stdout",
     "output_type": "stream",
     "text": [
      "ROUGE_avg_score_max(If whole text as summary): 0.7591292803668571\n"
     ]
    }
   ],
   "source": [
    "## Whole text as summary\n",
    "n=len(df)\n",
    "ROUGE_dict_max={}\n",
    "sum=0\n",
    "for i in range(n):\n",
    "    tuning_factor=0  #ange (1 to 1.2)\n",
    "    ref_summarized_text=df['highlights'][i]\n",
    "    sys_summarized_text=tfidf_summarizer(df['article'][i],tuning_factor)\n",
    "    #print('id',df['id'][i])\n",
    "    #print('summary\\n',sys_summarized_text)\n",
    "    #print('\\n')\n",
    "    ROUGE=ROUGE_1(sys_summarized_text,ref_summarized_text)\n",
    "    ROUGE_dict_max[df['id'][i]]=ROUGE\n",
    "    sum=sum+ROUGE\n",
    "print('ROUGE_avg_score_max(If whole text as summary):',sum/n)"
   ]
  },
  {
   "cell_type": "code",
   "execution_count": 42,
   "id": "ad1f680d",
   "metadata": {},
   "outputs": [
    {
     "name": "stdout",
     "output_type": "stream",
     "text": [
      "ROUGE_avg_score_tfidf: 0.1896838980882692\n"
     ]
    }
   ],
   "source": [
    "## TFidf based summary evaluation\n",
    "\n",
    "n=len(df)\n",
    "ROUGE_dict_tfidf={}\n",
    "sum=0\n",
    "for i in range(n):\n",
    "    tuning_factor=1.1 # Range (1 to 1.2)\n",
    "    ref_summarized_text=df['highlights'][i]\n",
    "    sys_summarized_text=tfidf_summarizer(df['article'][i],tuning_factor)\n",
    "    ROUGE=ROUGE_1(sys_summarized_text,ref_summarized_text)\n",
    "    ROUGE_dict_tfidf[df['id'][i]]=ROUGE\n",
    "    sum=sum+ROUGE\n",
    "print('ROUGE_avg_score_tfidf:',sum/n)"
   ]
  },
  {
   "cell_type": "code",
   "execution_count": 43,
   "id": "2f74dc72",
   "metadata": {},
   "outputs": [
    {
     "name": "stdout",
     "output_type": "stream",
     "text": [
      "ROUGE_avg_Score_centroid 0.4204972538946604\n"
     ]
    }
   ],
   "source": [
    "## centroid based summary \n",
    "n=len(df)\n",
    "ROUGE_dict_centroid={}\n",
    "sum=0\n",
    "for i in range(n):\n",
    "    tuning_factor=1.1 ## Range (1 to 1.2)\n",
    "    ref_summarized_text=df['highlights'][i]\n",
    "    sys_summarized_text=centroid_summarizer(df['article'][i],tuning_factor)\n",
    "    ROUGE=ROUGE_1(sys_summarized_text,ref_summarized_text)\n",
    "    ROUGE_dict_centroid[df['id'][i]]=ROUGE\n",
    "    sum=sum+ROUGE\n",
    "print('ROUGE_avg_Score_centroid',sum/n)"
   ]
  },
  {
   "cell_type": "code",
   "execution_count": 44,
   "id": "1ca55abe",
   "metadata": {},
   "outputs": [],
   "source": [
    "index=0\n",
    "Y_max=[]\n",
    "Y_centroid=[]\n",
    "Y_tfidf=[]\n",
    "X=[]\n",
    "for i in ROUGE_dict_tfidf.keys():\n",
    "    Y_max.append(ROUGE_dict_max[i])\n",
    "    Y_centroid.append(ROUGE_dict_centroid[i])\n",
    "    Y_tfidf.append(ROUGE_dict_tfidf[i])\n",
    "    X.append(index)\n",
    "    index=index+1"
   ]
  },
  {
   "cell_type": "code",
   "execution_count": 45,
   "id": "3d3551ef",
   "metadata": {},
   "outputs": [],
   "source": [
    "import matplotlib.pyplot as plt"
   ]
  },
  {
   "cell_type": "code",
   "execution_count": 46,
   "id": "d3cb2b2a",
   "metadata": {},
   "outputs": [
    {
     "data": {
      "image/png": "[encoded data removed]",
      "text/plain": [
       "<Figure size 432x288 with 1 Axes>"
      ]
     },
     "metadata": {
      "needs_background": "light"
     },
     "output_type": "display_data"
    }
   ],
   "source": [
    "# Plot Histogram on x\n",
    "plt.hist(Y_centroid, bins=50)\n",
    "plt.gca().set(title='Frequency Histogram Centroid Based Summarization', ylabel='Frequency',xlabel='ROUGE-1');"
   ]
  },
  {
   "cell_type": "code",
   "execution_count": 47,
   "id": "50dbb6a3",
   "metadata": {},
   "outputs": [
    {
     "data": {
      "image/png": "[encoded data removed]",
      "text/plain": [
       "<Figure size 432x288 with 1 Axes>"
      ]
     },
     "metadata": {
      "needs_background": "light"
     },
     "output_type": "display_data"
    }
   ],
   "source": [
    "# Plot Histogram on x\n",
    "plt.hist(Y_max, bins=50)\n",
    "plt.gca().set(title='Frequency Histogram when whole text as summarization', ylabel='Frequency',xlabel='ROUGE-1');"
   ]
  },
  {
   "cell_type": "code",
   "execution_count": 48,
   "id": "f86f11d8",
   "metadata": {},
   "outputs": [
    {
     "data": {
      "image/png": "[encoded data removed]",
      "text/plain": [
       "<Figure size 432x288 with 1 Axes>"
      ]
     },
     "metadata": {
      "needs_background": "light"
     },
     "output_type": "display_data"
    }
   ],
   "source": [
    "# Plot Histogram on x\n",
    "plt.hist(Y_tfidf, bins=50)\n",
    "plt.gca().set(title='Frequency Histogram TF-IDF Summarization', ylabel='Frequency',xlabel='ROUGE-1');"
   ]
  }
 ],
 "metadata": {
  "kernelspec": {
   "display_name": "Python 3 (ipykernel)",
   "language": "python",
   "name": "python3"
  },
  "language_info": {
   "codemirror_mode": {
    "name": "ipython",
    "version": 3
   },
   "file_extension": ".py",
   "mimetype": "text/x-python",
   "name": "python",
   "nbconvert_exporter": "python",
   "pygments_lexer": "ipython3",
   "version": "3.9.12"
  }
 },
 "nbformat": 4,
 "nbformat_minor": 5
}
