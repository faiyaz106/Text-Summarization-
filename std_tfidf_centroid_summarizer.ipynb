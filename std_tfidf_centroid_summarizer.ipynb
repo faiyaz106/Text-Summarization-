{
 "cells": [
  {
   "cell_type": "markdown",
   "id": "bc9a2a71",
   "metadata": {},
   "source": [
    "### This Notebook is for summarizing the Single Document 'Text Summarization' based on TFIDF Sentence scoring and Centroid Based Scoring System\n"
   ]
  },
  {
   "cell_type": "markdown",
   "id": "aa3987d2",
   "metadata": {},
   "source": [
    "## TF-IDF based summarizer (Extractive summary) :\n",
    "    Step 1: Text preprocessing ( Sentence Tokenization, Word Tokenization, Stop words and regular expression removal)\n",
    "    Step 2:TF-IDF calculation\n",
    "    Step 3:Sentence Scoring based on the TF-IDF score\n",
    "    Step 4:Sentence Extraction based on average sentence score\n",
    "    Step 5:ROUGE-1 Evaluation (With reference to Reference Summarized Text)"
   ]
  },
  {
   "cell_type": "markdown",
   "id": "572bc250",
   "metadata": {},
   "source": [
    "## Centroid based summarizer (Extractive summary) :\n",
    "    Step 1: Text preprocessing ( Sentence Tokenization, Word Tokenization, Stop words and\n",
    "            regular expression removal)\n",
    "    Step 2: TF-IDF calculation\n",
    "    Step 3: Centroid Vector extraction (Considered those words, which have TF-IDF score greater \n",
    "            than averge TF-IDF Score)\n",
    "    Step 4: Sentence Vector (Considered the all the words in sentence along with its TF-IDF Score)\n",
    "    Step 5: Sentence similarity score by using Cosine Similarity \n",
    "    Step 6: Sentence Extraction based on average sentence similarity score\n",
    "    Step 7: ROUGE-1 Evaluation (With reference to Reference Summarized Text)"
   ]
  },
  {
   "cell_type": "code",
   "execution_count": 138,
   "id": "43a16b5f",
   "metadata": {},
   "outputs": [],
   "source": [
    "import pandas as pd\n",
    "import numpy as np\n",
    "from nltk.corpus import stopwords\n",
    "from nltk.tokenize import word_tokenize\n",
    "from nltk.tokenize import sent_tokenize\n",
    "import re\n",
    "import math\n",
    "import os"
   ]
  },
  {
   "cell_type": "code",
   "execution_count": 139,
   "id": "8fc327f7",
   "metadata": {},
   "outputs": [],
   "source": [
    "#List of stopwords\n",
    "stopwords_eng = stopwords.words('english')"
   ]
  },
  {
   "cell_type": "code",
   "execution_count": 142,
   "id": "5fef1f5a",
   "metadata": {},
   "outputs": [
    {
     "data": {
      "text/html": [
       "<div>\n",
       "<style scoped>\n",
       "    .dataframe tbody tr th:only-of-type {\n",
       "        vertical-align: middle;\n",
       "    }\n",
       "\n",
       "    .dataframe tbody tr th {\n",
       "        vertical-align: top;\n",
       "    }\n",
       "\n",
       "    .dataframe thead th {\n",
       "        text-align: right;\n",
       "    }\n",
       "</style>\n",
       "<table border=\"1\" class=\"dataframe\">\n",
       "  <thead>\n",
       "    <tr style=\"text-align: right;\">\n",
       "      <th></th>\n",
       "      <th>id</th>\n",
       "      <th>article</th>\n",
       "      <th>highlights</th>\n",
       "    </tr>\n",
       "  </thead>\n",
       "  <tbody>\n",
       "    <tr>\n",
       "      <th>0</th>\n",
       "      <td>0001d1afc246a7964130f43ae940af6bc6c57f01</td>\n",
       "      <td>By . Associated Press . PUBLISHED: . 14:11 EST...</td>\n",
       "      <td>Bishop John Folda, of North Dakota, is taking ...</td>\n",
       "    </tr>\n",
       "    <tr>\n",
       "      <th>1</th>\n",
       "      <td>0002095e55fcbd3a2f366d9bf92a95433dc305ef</td>\n",
       "      <td>(CNN) -- Ralph Mata was an internal affairs li...</td>\n",
       "      <td>Criminal complaint: Cop used his role to help ...</td>\n",
       "    </tr>\n",
       "    <tr>\n",
       "      <th>2</th>\n",
       "      <td>00027e965c8264c35cc1bc55556db388da82b07f</td>\n",
       "      <td>A drunk driver who killed a young woman in a h...</td>\n",
       "      <td>Craig Eccleston-Todd, 27, had drunk at least t...</td>\n",
       "    </tr>\n",
       "    <tr>\n",
       "      <th>3</th>\n",
       "      <td>0002c17436637c4fe1837c935c04de47adb18e9a</td>\n",
       "      <td>(CNN) -- With a breezy sweep of his pen Presid...</td>\n",
       "      <td>Nina dos Santos says Europe must be ready to a...</td>\n",
       "    </tr>\n",
       "    <tr>\n",
       "      <th>4</th>\n",
       "      <td>0003ad6ef0c37534f80b55b4235108024b407f0b</td>\n",
       "      <td>Fleetwood are the only team still to have a 10...</td>\n",
       "      <td>Fleetwood top of League One after 2-0 win at S...</td>\n",
       "    </tr>\n",
       "  </tbody>\n",
       "</table>\n",
       "</div>"
      ],
      "text/plain": [
       "                                         id  \\\n",
       "0  0001d1afc246a7964130f43ae940af6bc6c57f01   \n",
       "1  0002095e55fcbd3a2f366d9bf92a95433dc305ef   \n",
       "2  00027e965c8264c35cc1bc55556db388da82b07f   \n",
       "3  0002c17436637c4fe1837c935c04de47adb18e9a   \n",
       "4  0003ad6ef0c37534f80b55b4235108024b407f0b   \n",
       "\n",
       "                                             article  \\\n",
       "0  By . Associated Press . PUBLISHED: . 14:11 EST...   \n",
       "1  (CNN) -- Ralph Mata was an internal affairs li...   \n",
       "2  A drunk driver who killed a young woman in a h...   \n",
       "3  (CNN) -- With a breezy sweep of his pen Presid...   \n",
       "4  Fleetwood are the only team still to have a 10...   \n",
       "\n",
       "                                          highlights  \n",
       "0  Bishop John Folda, of North Dakota, is taking ...  \n",
       "1  Criminal complaint: Cop used his role to help ...  \n",
       "2  Craig Eccleston-Todd, 27, had drunk at least t...  \n",
       "3  Nina dos Santos says Europe must be ready to a...  \n",
       "4  Fleetwood top of League One after 2-0 win at S...  "
      ]
     },
     "execution_count": 142,
     "metadata": {},
     "output_type": "execute_result"
    }
   ],
   "source": [
    "# Loading the data\n",
    "df=pd.read_csv('train.csv')\n",
    "df.head()"
   ]
  },
  {
   "cell_type": "code",
   "execution_count": 143,
   "id": "2fc173f4",
   "metadata": {},
   "outputs": [],
   "source": [
    "def text_preprocessing(text):\n",
    "    \"\"\"This function will do following preprocessing\n",
    "    1. Tokenizing the text into sentence.\n",
    "    2. Word tokenization for each sentence tokens.\n",
    "    3. Removing the stop words\n",
    "    4. Removing the regular expression\n",
    "    5. Output format: cleaned_text={'sent1':['word1','word2'....],'sent2':['w1,'w2','w3',..]}\n",
    "     \"\"\"\n",
    "    sent_token=sent_tokenize(text)\n",
    "    n=len(sent_token)\n",
    "    cleaned_text={}\n",
    "    for i in range(0,n):\n",
    "        temp=[]\n",
    "        w_t=word_tokenize(sent_token[i])\n",
    "        w_t_s=[word for word in w_t if ((not word.lower() in stopwords_eng )and (len(word)>3))]\n",
    "        for word in w_t_s:\n",
    "            result = re.sub(r'[^a-zA-Z]', '',word)\n",
    "            if result!='':\n",
    "                temp.append(result.lower())\n",
    "            else:\n",
    "                continue\n",
    "        if len(temp)>3:\n",
    "            cleaned_text[sent_token[i]]=temp\n",
    "    return cleaned_text\n",
    "    "
   ]
  },
  {
   "cell_type": "code",
   "execution_count": 144,
   "id": "92888190",
   "metadata": {},
   "outputs": [],
   "source": [
    "def frequency_count(cleaned_text):\n",
    "    \"\"\"This function return the frequency of each word in the given sentence\n",
    "    Input_argument:\n",
    "                cleaned_text={'sent1':['word1','word2'....],'sent2':['w1,'w2','w3',..]}\n",
    "    Output:\n",
    "          freq_dict={'sent1':{'word1':count1,'word2':count2....},'sent2':{'word1':count1,....} \n",
    "    \"\"\"\n",
    "    freq_dict={}\n",
    "    for i in cleaned_text.keys():\n",
    "        freq_dict[i]={}\n",
    "        for j in cleaned_text[i]:\n",
    "            if j not in freq_dict[i].keys():\n",
    "                freq_dict[i][j]=1\n",
    "            else:\n",
    "                freq_dict[i][j]=freq_dict[i][j]+1\n",
    "                \n",
    "    return freq_dict"
   ]
  },
  {
   "cell_type": "code",
   "execution_count": 145,
   "id": "8f2463c9",
   "metadata": {},
   "outputs": [],
   "source": [
    "def tf_score(cleaned_text,freq_dict):\n",
    "    '''This function is for the term frequency\n",
    "       Output:\n",
    "       tf_dict={'sent1':{'word1':tf1,'word2':tf2....},'sent2':{'word1':tf1,....}\n",
    "    '''\n",
    "    tf_dict={}\n",
    "    for i in freq_dict.keys():\n",
    "        tf_dict[i]={}\n",
    "        for j in freq_dict[i].keys():\n",
    "            tf_dict[i][j]=round(freq_dict[i][j]/len(cleaned_text[i]),3)\n",
    "    return tf_dict"
   ]
  },
  {
   "cell_type": "code",
   "execution_count": 146,
   "id": "f9c4cbdc",
   "metadata": {},
   "outputs": [],
   "source": [
    "def doc_word_freq(cleaned_text):\n",
    "    \"\"\"This return how many times particular word appeared in the document.\n",
    "    \"\"\"\n",
    "    doc_freq={}\n",
    "    for i in cleaned_text.keys():\n",
    "        doc_freq[i]={}\n",
    "        for j in cleaned_text[i]:\n",
    "            count=0\n",
    "            if j not in doc_freq[i].keys():\n",
    "                doc_freq[i][j]=0     \n",
    "            else:\n",
    "                continue\n",
    "            for k in cleaned_text.keys():\n",
    "                if j in cleaned_text[k]:\n",
    "                    count=count+1\n",
    "                else:\n",
    "                    continue\n",
    "            doc_freq[i][j]=count\n",
    "    return doc_freq\n",
    "            \n",
    "                "
   ]
  },
  {
   "cell_type": "code",
   "execution_count": 147,
   "id": "867c6c0e",
   "metadata": {},
   "outputs": [],
   "source": [
    "def idf_score(cleaned_text,freq_dict):\n",
    "    'This function will return the Inverse Document Frequency for the each word in a sentence'\n",
    "    idf_dict={}\n",
    "    doc_freq=doc_word_freq(cleaned_text)\n",
    "    n_sent=len(freq_dict.keys())\n",
    "    for i in freq_dict.keys():\n",
    "        idf_dict[i]={}\n",
    "        for j in freq_dict[i].keys():\n",
    "            idf_dict[i][j]=math.log(n_sent/doc_freq[i][j])\n",
    "    return idf_dict"
   ]
  },
  {
   "cell_type": "code",
   "execution_count": 148,
   "id": "c3110838",
   "metadata": {},
   "outputs": [],
   "source": [
    "def tf_idf_score(tf_dict,idf_dict):\n",
    "    'This function will return tf-idf value for each word in a sentence'\n",
    "    tf_idf_dict={}\n",
    "    for i in tf_dict.keys():\n",
    "        tf_idf_dict[i]={}\n",
    "        for j in tf_dict[i].keys():\n",
    "            tf_idf_dict[i][j]=tf_dict[i][j]*idf_dict[i][j]\n",
    "    return tf_idf_dict"
   ]
  },
  {
   "cell_type": "code",
   "execution_count": 149,
   "id": "89a47128",
   "metadata": {},
   "outputs": [],
   "source": [
    "def sent_score(tf_idf_dict):\n",
    "    \"\"\"This function will return weight or score for each sentence by adding the \n",
    "       tf-idf values of each word in a sentence and normalized by the number of words in a sentence.\n",
    "    \"\"\"\n",
    "    sent_tfidf_dict={}\n",
    "    for i in tf_idf_dict.keys():\n",
    "        sum=0\n",
    "        for j in tf_idf_dict[i].keys():\n",
    "            sum=sum+tf_idf_dict[i][j]\n",
    "        sent_tfidf_dict[i]=sum/len(tf_idf_dict[i].keys())\n",
    "    return sent_tfidf_dict"
   ]
  },
  {
   "cell_type": "code",
   "execution_count": 150,
   "id": "1a572b21",
   "metadata": {},
   "outputs": [],
   "source": [
    "def sent_avg_score(sent_tfidf_dict):\n",
    "    \"\"\" This function will return average score of sentence.\n",
    "    \"\"\"\n",
    "    avg_score=0\n",
    "    n=len(sent_tfidf_dict.keys())\n",
    "    sum=0\n",
    "    for i in sent_tfidf_dict.keys():\n",
    "        sum=sum+sent_tfidf_dict[i]\n",
    "    avg_score=sum/n\n",
    "    return avg_score\n",
    "    "
   ]
  },
  {
   "cell_type": "code",
   "execution_count": 151,
   "id": "c40b57a4",
   "metadata": {},
   "outputs": [],
   "source": [
    "def summarize(sent_tfidf_dict,tuning_factor):\n",
    "    \"\"\" This function will return the summarized text\"\"\"\n",
    "    summary=''\n",
    "    summary_dict={}\n",
    "    avg_score=sent_avg_score(sent_tfidf_dict)\n",
    "    for i in sent_tfidf_dict.keys():\n",
    "        if sent_tfidf_dict[i]>tuning_factor*avg_score:\n",
    "            summary=summary+i\n",
    "    return summary"
   ]
  },
  {
   "cell_type": "code",
   "execution_count": 152,
   "id": "7cf69f06",
   "metadata": {},
   "outputs": [],
   "source": [
    "def tfidf_summarizer(text,tuning_factor):\n",
    "    'This is main driving function. It takes raw text and return summary'\n",
    "    cleaned_text=text_preprocessing(text)\n",
    "    freq_dict=frequency_count(cleaned_text)\n",
    "    tf_dict=tf_score(cleaned_text,freq_dict)\n",
    "    doc_freq=doc_word_freq(cleaned_text)\n",
    "    idf_dict=idf_score(cleaned_text,freq_dict)\n",
    "    tf_idf_dict=tf_idf_score(tf_dict,idf_dict)\n",
    "    sent_sc=sent_score(tf_idf_dict)\n",
    "    summary=summarize(sent_sc,tuning_factor)\n",
    "    return summary\n",
    "    \n",
    "    "
   ]
  },
  {
   "cell_type": "code",
   "execution_count": 153,
   "id": "2a1d6022",
   "metadata": {},
   "outputs": [],
   "source": [
    "def avg_centroid_score(centroid):\n",
    "    sum=0\n",
    "    for i in centroid.keys():\n",
    "        sum=sum+centroid[i]\n",
    "    avg_score=sum/len(centroid.keys())\n",
    "    return avg_score"
   ]
  },
  {
   "cell_type": "code",
   "execution_count": 154,
   "id": "02bf81db",
   "metadata": {},
   "outputs": [],
   "source": [
    "def text_centroid(tf_idf_dict):\n",
    "    centroid={}\n",
    "    new_centroid={}\n",
    "    for i in tf_idf_dict.keys():\n",
    "        for j in tf_idf_dict[i].keys():\n",
    "            if j not in centroid.keys():\n",
    "                centroid[j]=tf_idf_dict[i][j]\n",
    "            else:\n",
    "                centroid[j]=tf_idf_dict[i][j]+centroid[j]\n",
    "    avg_score=avg_centroid_score(centroid)\n",
    "    for i in centroid.keys():\n",
    "        if centroid[i]>avg_score:\n",
    "            new_centroid[i]=centroid[i]\n",
    "        else:\n",
    "            continue\n",
    "    \n",
    "    return new_centroid"
   ]
  },
  {
   "cell_type": "code",
   "execution_count": 155,
   "id": "adf93165",
   "metadata": {},
   "outputs": [],
   "source": [
    "def sent_cos_similarity(tf_idf_dict):\n",
    "    new_centroid=text_centroid(tf_idf_dict)\n",
    "    sent_similarity={}\n",
    "    mod_centroid=0\n",
    "    sq_sum=0\n",
    "    for i in new_centroid.keys():\n",
    "        sq_sum=sq_sum+new_centroid[i]**2\n",
    "    mod_centroid=math.sqrt(sq_sum)\n",
    "    for j in tf_idf_dict.keys():\n",
    "        mod_sent=0\n",
    "        sq_sum=0\n",
    "        dot_product=0\n",
    "        for k in tf_idf_dict[j].keys():\n",
    "            sq_sum=sq_sum+tf_idf_dict[j][k]**2\n",
    "            if k in new_centroid.keys():\n",
    "                dot_product=dot_product+tf_idf_dict[j][k]*new_centroid[k]\n",
    "        mod_sent=math.sqrt(sq_sum)\n",
    "        sent_similarity[j]=round(dot_product/(mod_centroid*mod_sent),3)\n",
    "            \n",
    "    return sent_similarity"
   ]
  },
  {
   "cell_type": "code",
   "execution_count": 156,
   "id": "598192a4",
   "metadata": {},
   "outputs": [],
   "source": [
    "def avg_sent_similarity(sent_similarity):\n",
    "    n=len(sent_similarity.keys())\n",
    "    sum=0\n",
    "    for i in sent_similarity:\n",
    "        sum=sum+sent_similarity[i]\n",
    "    avg_score=sum/n\n",
    "    \n",
    "    return avg_score\n",
    "        "
   ]
  },
  {
   "cell_type": "code",
   "execution_count": 157,
   "id": "7fc2bfd4",
   "metadata": {},
   "outputs": [],
   "source": [
    "def centroid_summary_gen(sent_similarity,tuning_factor):\n",
    "    avg_score=avg_sent_similarity(sent_similarity)\n",
    "    summary=''\n",
    "    for i in sent_similarity:\n",
    "        if sent_similarity[i]>tuning_factor*avg_score:\n",
    "            summary=summary+str(i)\n",
    "        else:\n",
    "            continue\n",
    "    return summary"
   ]
  },
  {
   "cell_type": "code",
   "execution_count": 158,
   "id": "bd44f9b8",
   "metadata": {},
   "outputs": [],
   "source": [
    "def ROUGE_1(sys_summarized_text,ref_summarized_text):\n",
    "    sys_text=text_preprocessing(sys_summarized_text)\n",
    "    ref_text=text_preprocessing(ref_summarized_text)\n",
    "    sys_word=[]\n",
    "    ref_word=[]\n",
    "    match_count=0\n",
    "    for i in sys_text.keys():\n",
    "        for j in sys_text[i]:\n",
    "            sys_word.append(j)\n",
    "    for i in ref_text.keys():\n",
    "        for j in ref_text[i]:\n",
    "            ref_word.append(j)\n",
    "    n=len(ref_word)\n",
    "    for i in sys_word:\n",
    "        for j in range(len(ref_word)):\n",
    "            if i==ref_word[j]:\n",
    "                match_count=match_count+1\n",
    "                ref_word.pop(j)\n",
    "                break\n",
    "            else:\n",
    "                continue\n",
    "    if n>0:\n",
    "        ROUGE=match_count/n\n",
    "    else:\n",
    "        ROUGE=0\n",
    "    return ROUGE"
   ]
  },
  {
   "cell_type": "code",
   "execution_count": 159,
   "id": "b97c2af6",
   "metadata": {},
   "outputs": [],
   "source": [
    "def centroid_summarizer(text,tuning_factor):\n",
    "    cleaned_text=text_preprocessing(text)\n",
    "    freq_dict=frequency_count(cleaned_text)\n",
    "    tf_dict=tf_score(cleaned_text,freq_dict)\n",
    "    doc_freq=doc_word_freq(cleaned_text)\n",
    "    idf_dict=idf_score(cleaned_text,freq_dict)\n",
    "    tf_idf_dict=tf_idf_score(tf_dict,idf_dict)\n",
    "    centroid=text_centroid(tf_idf_dict)\n",
    "    sent_similarity=sent_cos_similarity(tf_idf_dict)\n",
    "    summary=centroid_summary_gen(sent_similarity,tuning_factor)\n",
    "    return summary"
   ]
  },
  {
   "cell_type": "code",
   "execution_count": 160,
   "id": "4031d837",
   "metadata": {},
   "outputs": [
    {
     "name": "stdout",
     "output_type": "stream",
     "text": [
      "ROUGE_avg_score_max(If whole text as summary): 0.7883746023832297\n"
     ]
    }
   ],
   "source": [
    "## Whole text as summary\n",
    "n=len(df)\n",
    "ROUGE_dict_max={}\n",
    "sum=0\n",
    "for i in range(n):\n",
    "    tuning_factor=0  #Range (1 to 1.2)\n",
    "    ref_summarized_text=df['highlights'][i]\n",
    "    sys_summarized_text=tfidf_summarizer(df['article'][i],tuning_factor)\n",
    "    ROUGE=ROUGE_1(sys_summarized_text,ref_summarized_text)\n",
    "    ROUGE_dict_max[df['id'][i]]=ROUGE\n",
    "    sum=sum+ROUGE\n",
    "print('ROUGE_avg_score_max(If whole text as summary):',sum/n)"
   ]
  },
  {
   "cell_type": "code",
   "execution_count": 161,
   "id": "ad1f680d",
   "metadata": {},
   "outputs": [
    {
     "name": "stdout",
     "output_type": "stream",
     "text": [
      "ROUGE_avg_score_tfidf: 0.22815099933859012\n"
     ]
    }
   ],
   "source": [
    "## TFidf based summary evaluation\n",
    "\n",
    "n=len(df)\n",
    "ROUGE_dict_tfidf={}\n",
    "sum=0\n",
    "for i in range(n):\n",
    "    tuning_factor=1.1 # Range (1 to 1.2)\n",
    "    ref_summarized_text=df['highlights'][i]\n",
    "    sys_summarized_text=tfidf_summarizer(df['article'][i],tuning_factor)\n",
    "    ROUGE=ROUGE_1(sys_summarized_text,ref_summarized_text)\n",
    "    ROUGE_dict_tfidf[df['id'][i]]=ROUGE\n",
    "    sum=sum+ROUGE\n",
    "print('ROUGE_avg_score_tfidf:',sum/n)"
   ]
  },
  {
   "cell_type": "code",
   "execution_count": 162,
   "id": "2f74dc72",
   "metadata": {},
   "outputs": [
    {
     "name": "stdout",
     "output_type": "stream",
     "text": [
      "ROUGE_avg_Score_centroid 0.4562245732999075\n"
     ]
    }
   ],
   "source": [
    "## centroid based summary \n",
    "n=len(df)\n",
    "ROUGE_dict_centroid={}\n",
    "sum=0\n",
    "for i in range(n):\n",
    "    tuning_factor=1.1 ## Range (1 to 1.2)\n",
    "    ref_summarized_text=df['highlights'][i]\n",
    "    sys_summarized_text=centroid_summarizer(df['article'][i],tuning_factor)\n",
    "    ROUGE=ROUGE_1(sys_summarized_text,ref_summarized_text)\n",
    "    ROUGE_dict_centroid[df['id'][i]]=ROUGE\n",
    "    sum=sum+ROUGE\n",
    "print('ROUGE_avg_Score_centroid',sum/n)"
   ]
  },
  {
   "cell_type": "code",
   "execution_count": 163,
   "id": "1ca55abe",
   "metadata": {},
   "outputs": [],
   "source": [
    "index=0\n",
    "Y_max=[]\n",
    "Y_centroid=[]\n",
    "Y_tfidf=[]\n",
    "X=[]\n",
    "for i in ROUGE_dict_tfidf.keys():\n",
    "    Y_max.append(ROUGE_dict_max[i])\n",
    "    Y_centroid.append(ROUGE_dict_centroid[i])\n",
    "    Y_tfidf.append(ROUGE_dict_tfidf[i])\n",
    "    X.append(index)\n",
    "    index=index+1"
   ]
  },
  {
   "cell_type": "code",
   "execution_count": 164,
   "id": "3d3551ef",
   "metadata": {},
   "outputs": [],
   "source": [
    "import matplotlib.pyplot as plt"
   ]
  },
  {
   "cell_type": "code",
   "execution_count": 165,
   "id": "d3cb2b2a",
   "metadata": {},
   "outputs": [
    {
     "data": {
      "image/png": "[encoded data removed]",
      "text/plain": [
       "<Figure size 432x288 with 1 Axes>"
      ]
     },
     "metadata": {
      "needs_background": "light"
     },
     "output_type": "display_data"
    }
   ],
   "source": [
    "# Plot Histogram on x\n",
    "plt.hist(Y_centroid, bins=50)\n",
    "plt.gca().set(title='Frequency Histogram Centroid Based Summarization', ylabel='Frequency',xlabel='ROUGE-1');\n"
   ]
  },
  {
   "cell_type": "code",
   "execution_count": 166,
   "id": "50dbb6a3",
   "metadata": {},
   "outputs": [
    {
     "data": {
      "image/png": "[encoded data removed]",
      "text/plain": [
       "<Figure size 432x288 with 1 Axes>"
      ]
     },
     "metadata": {
      "needs_background": "light"
     },
     "output_type": "display_data"
    }
   ],
   "source": [
    "# Plot Histogram on x\n",
    "plt.hist(Y_max, bins=50)\n",
    "plt.gca().set(title='Frequency Histogram when whole text as summarization', ylabel='Frequency',xlabel='ROUGE-1');"
   ]
  },
  {
   "cell_type": "code",
   "execution_count": 167,
   "id": "f86f11d8",
   "metadata": {},
   "outputs": [
    {
     "data": {
      "image/png": "[encoded data removed]",
      "text/plain": [
       "<Figure size 432x288 with 1 Axes>"
      ]
     },
     "metadata": {
      "needs_background": "light"
     },
     "output_type": "display_data"
    }
   ],
   "source": [
    "# Plot Histogram on x\n",
    "plt.hist(Y_tfidf, bins=50)\n",
    "plt.gca().set(title='Frequency Histogram TF-IDF Summarization', ylabel='Frequency',xlabel='ROUGE-1');"
   ]
  },
  {
   "cell_type": "code",
   "execution_count": 168,
   "id": "8414c71b",
   "metadata": {},
   "outputs": [
    {
     "name": "stdout",
     "output_type": "stream",
     "text": [
      "Original Text:\n",
      "\n",
      "(CNN) -- Canadian aviation company Bombardier is taking a \"major bet\" on the notoriously cut-throat passenger plane market, spending around $3.5 billion to compete with well-established rivals Boeing and Airbus, its chief executive Guy Hachey says. The money will be invested in Bombardier's new C Series aircraft, which has the capacity to seat 100 to 150 passengers. Bombardier faces obstacles, including the dominance of its competitors in the market and the eurozone financial crisis, which has hit the aviation industry hard. But the company is in a strong position to target a market that has been \"under-served\" by the major players, Hachey said. Watch: How to buy planes . \"So far, we've been serving customers up to about 100 seats, more in the regional segment. Now we're cracking into more of the mainline segment. We're investing about $3.5 billion -- for the size of our company that is a very significant investment,\" he told CNN. \"If you look at our company we have two groups -- a group of about $10 billion on the rail side and $10 billion in aerospace. But it is a major bet for the corporation.\" Cutting edge design . Hachey said Bombardier's competitive edge lies in the design of its planes. Until now, this market had largely been served by the Airbus A320 and Boeing 737. However these smaller versions of planes -- called \"shrinks\" --- were also much heavier. The other option was Brazilian company Embraer's E-195 -- known as a \"stretch\" -- but it cannot fly as far in one go. In comparison, Hachey said Bombardier's C Series will deliver an \"optimized product\" built specifically for the 100 to 150-seat market. On its website the company says its aircraft will be lighter and more fuel efficient, yet provide a \"best-in-class, wide-body cabin environment.\" Taking on the major players . Bombardier's ambitions -- even with this new approach to design -- are high, given the long history of Airbus and Boeing in these markets. Founded in 1942, Bombardier is a relatively new kid on the aviation block. The company expanded from trains to planes in the 1980s and is now the third largest aircraft manufacturer. Its aerospace division now employs 33,600 people, with an annual turnover of Â£8.6 billion. According to Hachey, the company now has the scale to take such challenges. Watch: Three CEOs in a cockpit . Hachey is hoping to capitalize on demand for around 7,000 aircraft in the 100 to 150-seat segment over the next 20 years. So far Bombardier has secured 330 commitments and 138 firm orders for its new aircraft. Hachey, who worked in the automotive industry for 30 years before moving to planes, said: \"We feel very comfortable with the level of production we have going forwards, so we are very happy with our position.\" Beyond Europe . As European markets continue to take a battering, Hachey says Bombardier will be expanding its focus elsewhere. In the past year the company has doubled its sales force in emerging countries, with a renewed push in the U.S. \"In Europe typically things have been slower than usual, and this is a fortress market for us. We've been very strong in Europe so we are feeling the impact of the economic uncertainty,\" Hachey noted. Watch: Airlines brace for economic impact . \"The good thing is the rest of the world is not necessarily in the same shape. If you look at emerging countries we've been doing very well,\" he said. \"We're focusing elsewhere. The U.S. has also been picking up which is a very, very important market for us.\" Sheena McKenzie contributed to this report .\n",
      "\n",
      "\n",
      "\n",
      "TF_IDF Based Summary:\n",
      "\n",
      "\"So far, we've been serving customers up to about 100 seats, more in the regional segment.Until now, this market had largely been served by the Airbus A320 and Boeing 737.The other option was Brazilian company Embraer's E-195 -- known as a \"stretch\" -- but it cannot fly as far in one go.Founded in 1942, Bombardier is a relatively new kid on the aviation block.Its aerospace division now employs 33,600 people, with an annual turnover of Â£8.6 billion.Watch: Three CEOs in a cockpit .So far Bombardier has secured 330 commitments and 138 firm orders for its new aircraft.Watch: Airlines brace for economic impact .\"The good thing is the rest of the world is not necessarily in the same shape.If you look at emerging countries we've been doing very well,\" he said.The U.S. has also been picking up which is a very, very important market for us.\"Sheena McKenzie contributed to this report .\n",
      "\n",
      "\n",
      "\n",
      "Centroid Based Summary:\n",
      "\n",
      "\"So far, we've been serving customers up to about 100 seats, more in the regional segment.We're investing about $3.5 billion -- for the size of our company that is a very significant investment,\" he told CNN.Until now, this market had largely been served by the Airbus A320 and Boeing 737.Founded in 1942, Bombardier is a relatively new kid on the aviation block.Its aerospace division now employs 33,600 people, with an annual turnover of Â£8.6 billion.According to Hachey, the company now has the scale to take such challenges.Watch: Three CEOs in a cockpit .So far Bombardier has secured 330 commitments and 138 firm orders for its new aircraft.Watch: Airlines brace for economic impact .\"The good thing is the rest of the world is not necessarily in the same shape.If you look at emerging countries we've been doing very well,\" he said.The U.S. has also been picking up which is a very, very important market for us.\"Sheena McKenzie contributed to this report .\n",
      "\n",
      "\n",
      "\n",
      "Reference Summarized Text(Abstractive):\n",
      "\n",
      "Aviation company Bombardier is investing around $3.5 billion in 100 to 150-seater aircraft .\n",
      "Canadian group will compete with well-established rivals Boeing and Airbus .\n",
      "Ambitious plan comes against the backdrop of eurozone financial crisis .\n",
      "Bombardier CEO Guy Hachey says it is a \"major bet for the corporation\"\n"
     ]
    }
   ],
   "source": [
    "#Sample summary result\n",
    "i=215\n",
    "ref_summarized_text=df['highlights'][i]\n",
    "centroid_summary=centroid_summarizer(df['article'][i],1.2)\n",
    "tf_idf_summary=tfidf_summarizer(df['article'][i],1.1)\n",
    "print('Original Text:\\n')\n",
    "print(df['article'][i])\n",
    "print('\\n\\n')\n",
    "print('TF_IDF Based Summary:\\n')\n",
    "print(tf_idf_summary)\n",
    "print('\\n\\n')\n",
    "print('Centroid Based Summary:\\n')\n",
    "print(centroid_summary)\n",
    "print('\\n\\n')\n",
    "print('Reference Summarized Text(Abstractive):\\n')\n",
    "print(ref_summarized_text)"
   ]
  },
  {
   "cell_type": "markdown",
   "id": "d4c89272",
   "metadata": {},
   "source": [
    "## Conclusion:\n",
    "    From above it is evident that centorid based method is able to capture better main idea of the text than the tf_idf method.\n",
    "    Based on 500 instances:\n",
    "    i) Maximum achievable average ROUGE-1 score: 0.78 (When whole text as summary)\n",
    "    ii) Average ROUGE-1 TF-IDF based summarizer: 0.45\n",
    "    iii) Average ROUGE-1 Centroid based summarizer: 0.22"
   ]
  }
 ],
 "metadata": {
  "kernelspec": {
   "display_name": "Python 3 (ipykernel)",
   "language": "python",
   "name": "python3"
  },
  "language_info": {
   "codemirror_mode": {
    "name": "ipython",
    "version": 3
   },
   "file_extension": ".py",
   "mimetype": "text/x-python",
   "name": "python",
   "nbconvert_exporter": "python",
   "pygments_lexer": "ipython3",
   "version": "3.9.12"
  }
 },
 "nbformat": 4,
 "nbformat_minor": 5
}
